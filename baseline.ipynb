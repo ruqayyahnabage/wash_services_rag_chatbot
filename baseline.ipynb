{
 "cells": [
  {
   "cell_type": "markdown",
   "metadata": {},
   "source": [
    "## Baseline Model\n",
    "I used this https://docs.llamaindex.ai/en/stable/examples/chat_engine/chat_engine_best/ from LlamaIndex documentation as an inspiration to write this notebook.\n",
    "This notebook contains a naive RAG, with just the basic components, the raw corpus (the WASHNORM report) is loaded in through Simple Directory Reader, an index is built with Vector Store Index and the query or chat engine is built on that index."
   ]
  },
  {
   "cell_type": "code",
   "execution_count": null,
   "metadata": {},
   "outputs": [],
   "source": [
    "!pip install llama-index llama-index-llms-huggingface-api llama-index-llms-openai \"huggingface_hub[inference]\" llama-index-embeddings-huggingface"
   ]
  },
  {
   "cell_type": "markdown",
   "metadata": {},
   "source": [
    "Necessary imports"
   ]
  },
  {
   "cell_type": "code",
   "execution_count": 10,
   "metadata": {},
   "outputs": [
    {
     "name": "stderr",
     "output_type": "stream",
     "text": [
      "/Users/mac/project_in_cs/theone/lib/python3.11/site-packages/tqdm/auto.py:21: TqdmWarning: IProgress not found. Please update jupyter and ipywidgets. See https://ipywidgets.readthedocs.io/en/stable/user_install.html\n",
      "  from .autonotebook import tqdm as notebook_tqdm\n",
      "/Users/mac/project_in_cs/theone/lib/python3.11/site-packages/pydantic/_internal/_fields.py:132: UserWarning: Field \"model_name\" in HuggingFaceInferenceAPI has conflict with protected namespace \"model_\".\n",
      "\n",
      "You may be able to resolve this warning by setting `model_config['protected_namespaces'] = ()`.\n",
      "  warnings.warn(\n"
     ]
    }
   ],
   "source": [
    "from llama_index.llms.huggingface_api import HuggingFaceInferenceAPI\n",
    "from llama_index.embeddings.huggingface import HuggingFaceEmbedding\n",
    "from llama_index.core import VectorStoreIndex, SimpleDirectoryReader, Settings"
   ]
  },
  {
   "cell_type": "code",
   "execution_count": 11,
   "metadata": {},
   "outputs": [],
   "source": [
    "from dotenv import load_dotenv\n",
    "import os\n",
    "\n",
    "load_dotenv()\n",
    "\n",
    "hf_token = os.getenv(\"HUGGING_FACE_TOKEN\")\n",
    "open_ai_token = os.getenv(\"OPEN_AI_API_KEY\")"
   ]
  },
  {
   "cell_type": "markdown",
   "metadata": {},
   "source": [
    "The LLM model is initialized here"
   ]
  },
  {
   "cell_type": "code",
   "execution_count": 29,
   "metadata": {},
   "outputs": [],
   "source": [
    "llm = HuggingFaceInferenceAPI(model_name=\"meta-llama/Llama-3.2-1B-Instruct\", token=hf_token)\n",
    "# llm_2 = HuggingFaceInferenceAPI(model_name=\"HuggingFaceH4/zephyr-7b-alpha\")\n",
    "\n",
    "Settings.llm = llm"
   ]
  },
  {
   "cell_type": "markdown",
   "metadata": {},
   "source": [
    "The data is loaded in, and the index is built and the model trained on only a subset of the data."
   ]
  },
  {
   "cell_type": "code",
   "execution_count": 13,
   "metadata": {},
   "outputs": [],
   "source": [
    "# loading in data\n",
    "reader = SimpleDirectoryReader(input_dir='/Users/mac/project_in_cs/data')\n",
    "data = reader.load_data()"
   ]
  },
  {
   "cell_type": "code",
   "execution_count": 14,
   "metadata": {},
   "outputs": [],
   "source": [
    "small_dataset = data[16:28]"
   ]
  },
  {
   "cell_type": "code",
   "execution_count": 108,
   "metadata": {},
   "outputs": [
    {
     "data": {
      "text/plain": [
       "[Document(id_='c3beb57b-ed71-44ae-a005-9c94cb64ed21', embedding=None, metadata={'page_label': '17', 'file_name': 'washnorm_report.pdf', 'file_path': '/Users/mac/project_in_cs/data/washnorm_report.pdf', 'file_type': 'application/pdf', 'file_size': 9122373, 'creation_date': '2024-11-17', 'last_modified_date': '2024-11-17'}, excluded_embed_metadata_keys=['file_name', 'file_type', 'file_size', 'creation_date', 'last_modified_date', 'last_accessed_date'], excluded_llm_metadata_keys=['file_name', 'file_type', 'file_size', 'creation_date', 'last_modified_date', 'last_accessed_date'], relationships={}, text=' \\n    \\n \\n \\n \\n16 \\n \\nWater, Sanitation, Hygiene  \\nNational Outcome Routine Mapping 2021 Conclusions \\n \\nEXECUTIVE SUMMARY \\nI. Overview \\nhe W ater Sanitation and Hygiene  National Outcome Routine Mapping ( WASHNORM) is an \\nannual national household and facility -based survey encompassing a comprehensive range of \\nkey outcome indicators and parameters related to the WASH sector . It canvasses households, \\ncommunities, institutions and public places, measuring the level of access to WASH services for different \\nareas and subgroups. It also assesses determinants of sustainability and user perceptions of service \\nlevels, participation and satisfaction with WASH services. The WASHNORM w as developed as a key \\nstrategy by the Federal Ministry of Water Resources (FMWR) to improve data management and \\navailability of information in the sector for evidence-based planning, decision making, investment \\nmobilization and allocation of resources towa rds improving access to quality and sustainable WASH \\nservices in Nigeria. \\n \\nThe WASHNORM was first conducted in 2018, with the inaugural report launched in May 2019 by the \\nHonourable Minister of Water Resources. This was followed by the second edition of the WASHNORM \\nsurvey, conducted between August 2019 and February 2020 . The report was  launched in November \\n2020. Between May and November 2021 , the third edition of the  WASHNORM survey was \\ncommissioned by the FMWR and the field exercise was successfully implemented by the National Bureau \\nof Statistics (NBS). Given the success of WASHNORM 2019, very little modification was made to the \\nscope and methodology of WASHNORM 2021, however, a few questions were added to the household \\nmodule on COVID 19 . Similarly,  the public utility mapping was expanded to include the energy \\nrequirement of urban waterworks.  \\n \\nThe key objectives of the WASHNORM 2021 are to: \\na. Make available up -to-date, multidimensional and detailed data to support sector -wide \\nplanning, management, informed decision-making and facilitate implementation \\nb. Gain insight from different stakeholders to help  define national WASH sector priorities based \\non the SDG indicators and targets \\nc. Provide and publish routine updates on progress of key sector outcome indicators to inform \\nprogramming and drive performance improvement in WASH services delivery \\nd. Serve as a reference dashboard for systematic monitoring of prog ress towards attainment of \\nkey sector goals and targets \\ne. Serve as a basis for an iterative definition of sector priorities and targets to be used in planning \\nand coordination of interventions and support \\nf. Provide disaggregated data towards addressing structu ral and systemic deprivations and \\ninequities in the distribution of WASH services \\n \\nT ', mimetype='text/plain', start_char_idx=None, end_char_idx=None, text_template='{metadata_str}\\n\\n{content}', metadata_template='{key}: {value}', metadata_seperator='\\n'),\n",
       " Document(id_='8636d3b0-e832-4356-947a-c4728e9004ed', embedding=None, metadata={'page_label': '18', 'file_name': 'washnorm_report.pdf', 'file_path': '/Users/mac/project_in_cs/data/washnorm_report.pdf', 'file_type': 'application/pdf', 'file_size': 9122373, 'creation_date': '2024-11-17', 'last_modified_date': '2024-11-17'}, excluded_embed_metadata_keys=['file_name', 'file_type', 'file_size', 'creation_date', 'last_modified_date', 'last_accessed_date'], excluded_llm_metadata_keys=['file_name', 'file_type', 'file_size', 'creation_date', 'last_modified_date', 'last_accessed_date'], relationships={}, text=' \\n    \\n \\n \\n \\n17 \\n \\nWater, Sanitation, Hygiene  \\nNational Outcome Routine Mapping 2021 Conclusions \\n \\ng. Contribute data input for growing the WASH Information Management System and sector \\ndatabank \\nh. Build capacity of WASH institutions at all levels to institute systematic monitoring and tracking \\nof WASH results and outcomes \\ni. Promote sector marketability and provide the basis for developing state-wide WASH investment \\nplans \\nj. Institute government-led evidence generation, knowledge management and sector learning \\nk. Understand the pathways for WASH expenditure and funding \\nl. Promote equity, governance, accountability, value for money and overall sector sustainability \\nthrough enhanced monitoring of funding allocation, financing strategies and funding \\ncommitments made by sector actors \\n \\nThis report presents the findings of the WASHNORM 2021 survey. The survey report is presented in \\nfour broad sections: \\n1. An introduction, which gives a current view of the sector and background of the survey. \\n2. The detailed methodology of the WASHNORM 2021 survey. \\n3. Key WASH findings, which include demography and household characteristics, general findings \\non WASH services for households, communities, institution and public places  and a summary of \\nthe urban utility mapping. \\n4. Implications of survey findings on policy and practice. \\n \\nII. Methodology \\nThe WASHNORM survey was carried out in all 36 states of Nigeria and the Federal Capital Territory \\n(FCT), Abuja. Both urban and rural areas were canvassed . Data collection was conducted in the third \\nand fourth quarter of 2021. The data analysis and report compilation were completed in the first quarter \\nof 2022. \\n \\nSampling Methodology \\nThe 2021 WASHNORM  household sampling is nationally representative and was based on a similar \\nsampling strategy adopted under the NORM 2019 and NORM 2018. It used the Enumeration Areas \\n(EAs) as demarcated by the National Population Commission for the 2006 Housing and Population Census \\nand the sampling frame used by the National Integrated Survey of Households (NISH) 2014 -2019. A \\ntwo-stage sampling methodology  was used in selecting the EAs and the households. The first stage \\nrequired updating the sampling frame for the EAs, while the second stage involved the selection of \\nhouseholds listed from each EA selected. The total number of EAs covered was 1,640 EAs in all 36 states \\nplus the FCT; 40 EAs each in 34 states and the FCT, and 120 EAs each in Kano and Lagos states. \\n ', mimetype='text/plain', start_char_idx=None, end_char_idx=None, text_template='{metadata_str}\\n\\n{content}', metadata_template='{key}: {value}', metadata_seperator='\\n'),\n",
       " Document(id_='e6df10df-9037-49f7-aca0-d304c3bfd50a', embedding=None, metadata={'page_label': '19', 'file_name': 'washnorm_report.pdf', 'file_path': '/Users/mac/project_in_cs/data/washnorm_report.pdf', 'file_type': 'application/pdf', 'file_size': 9122373, 'creation_date': '2024-11-17', 'last_modified_date': '2024-11-17'}, excluded_embed_metadata_keys=['file_name', 'file_type', 'file_size', 'creation_date', 'last_modified_date', 'last_accessed_date'], excluded_llm_metadata_keys=['file_name', 'file_type', 'file_size', 'creation_date', 'last_modified_date', 'last_accessed_date'], relationships={}, text=\" \\n    \\n \\n \\n \\n18 \\n \\nWater, Sanitation, Hygiene  \\nNational Outcome Routine Mapping 2021 Conclusions \\n \\nA national listing exercise of households and water points was conducted across the 36 states and FCT, \\nAbuja. A sample of 15 households per EA was selected systematically using computerized spreadsheets; \\n600 households were canvassed in each of the 34 states and FCT, giving a total of 21,000 households, \\nwhile 1,800 households each were canvassed in Lagos and Kano, giving a grand total of 24,600 \\nhouseholds for all 36 states and the FCT estimated to be surveyed. For the water quality assessment, all \\nwater points within an EA were listed, and 8,200 households were selected out of the 24,600 households \\nusing a systematic approach across the states. \\n \\nSpecific frames were developed for schools, health facilities, urban water utilities , markets and motor \\nparks. The sampling frames were developed from comprehensive lists of institutions provided by the \\nFederal Ministries of Health, Education and Water Resourc es for health facilities, schools, and urban \\nwater utilities, respectively. A total of 2,050 primary and secondary schools and 1,312 health facilities \\nwere listed across the country, while 1,250 markets and motor parks were estimated to be covered. \\n \\nFor the urban water utilities mapping exercise, all 3 6 state and the FCT water agencies (SWAs) and \\npublic urban water utilities or waterworks were targeted and mapped. With regards to the consumer \\nexperience survey, the consumer database was collected from the major public urban water utilities \\nrepresenting each state to form a frame. For each utility, 200 consumers were systematically selected \\nfrom the utility's database to give a total of 7,400 households to be covered. \\n \\nData was collected from about 98.6  % of the targeted samples estimated to be covered from \\nhouseholds and institutions. With regards to the utilities consumers' survey, data was collected from only \\n28 states which had functional and partially functional public urban water utilities. Therefore, a total of \\n5,600 households (i.e. 200 from each of the 28 urban water utilities) was covered out of the targeted \\n7,400. Table 1 below displays a summary of the actual number of  samples assessed for the 2021 \\nWASHNORM  compared to those assessed in NORM 2019 and NORM 2018. \\n \\nTable 1 : Summary of Samples Covered under the 2021 WASHNORM  in comparison to NORM \\n2019 and NORM 2018 \\nS/N Household Survey Households \\nSamples \\nCovered \\n2021 NORM  \\nSamples \\nCovered \\nNORM 2019 \\nSamples \\nCovered \\nNORM 2018 \\n1 Household Survey Households 22,353 24,036 23,003 \\n1a \\nWater Quality \\nAssessments \\nHouseholds 7,859 8,078 - \\n  Facilities 2,761 4,164 - \\n1b \\nHousehold WASH \\nExpenditure \\nHouseholds 22,353 24,036 - \", mimetype='text/plain', start_char_idx=None, end_char_idx=None, text_template='{metadata_str}\\n\\n{content}', metadata_template='{key}: {value}', metadata_seperator='\\n'),\n",
       " Document(id_='531d847b-f4b6-4211-ae81-ca2b98adab63', embedding=None, metadata={'page_label': '20', 'file_name': 'washnorm_report.pdf', 'file_path': '/Users/mac/project_in_cs/data/washnorm_report.pdf', 'file_type': 'application/pdf', 'file_size': 9122373, 'creation_date': '2024-11-17', 'last_modified_date': '2024-11-17'}, excluded_embed_metadata_keys=['file_name', 'file_type', 'file_size', 'creation_date', 'last_modified_date', 'last_accessed_date'], excluded_llm_metadata_keys=['file_name', 'file_type', 'file_size', 'creation_date', 'last_modified_date', 'last_accessed_date'], relationships={}, text=\" \\n    \\n \\n \\n \\n19 \\n \\nWater, Sanitation, Hygiene  \\nNational Outcome Routine Mapping 2021 Conclusions \\n \\n \\nData Tools \\n2021 WASHNORM  used the same survey instruments as the NORM 2019 across all modules. The survey \\nutilized six sets of questionnaires that broadly focus on two components: household -based assessments \\nof WASH service levels, and facility-based assessments of WASH infrastructure in communities, education \\nand health institut ions and public places (markets and motor parks). The WASHNORM uses globally \\nrecognized indicators and household survey questions developed by the UNICEF/WHO Joint Monitoring \\nProgramme (JMP). While some minor changes were made regarding the survey question s, the same \\nparameters were covered and content for key issues unchanged, allowing for suitable data \\ncomparability across each module. However, it is important to note that a questionnaire was developed \\nspecifically for the urban water utilities mapping an d consumers ' satisfaction survey . T he general \\nhousehold questionnaire included parameters to carry out households' drinking water quality assessments \\nand capture household expenditure on WASH which provided data  used to populate the National \\nWASH Account. \\n \\nThe household survey questionnaire covered parameters on household characteristics, WASH facilities ' \\ncoverage, functionality, availability, accessibility, quality, user participation, satisfaction, determinants \\nof sustainability, access to and satisfactio n with public water utilities, and household expenditure on \\nWASH services. The water facilities mapping module covered general characteristics and features  of \\nwater facilities, accessibility, facility management, water quality status, and sanitary inspecti on. The \\ninstitutional tools covered general information on institutional facilities and access to WASH services. The \\nwater utilities network mapping tool covered a range of technical information on Intake, Treatment \\nPlants, Storage facilities, Booster Stat ions and Pipe Networks, as well as general information on \\ntreatment installations, installed capacity, capacity utilization, energy requirement, personnel and  \\nstaffing, connections and tariff system in place. Meanwhile, the water utilities consumers ' satisfaction \\n2 \\nWater Source \\nMapping \\nWater \\nFacilities 3,587 2,713 1,873 \\n3 \\nWASH in Educational \\nFacilities \\nSchools 2,016 1,996 955 \\n4 \\nWASH in Health \\nFacilities \\nHealth \\nfacilities 1,265 1,335 375 \\n5 \\nWASH in Markets and \\nMotor Parks \\nMarkets/Motor \\nParks 1,187 1,220 218 \\n6 \\nUrban Water Utilities \\nMapping \\nWater utilities 28 28 - \\n7 \\nUrban Water Utilities \\nConsumer Satisfaction \\nSurvey \\nHouseholds 5,437 5,600 - \", mimetype='text/plain', start_char_idx=None, end_char_idx=None, text_template='{metadata_str}\\n\\n{content}', metadata_template='{key}: {value}', metadata_seperator='\\n'),\n",
       " Document(id_='c7c675a5-f2f2-429f-b639-2933b0a2da73', embedding=None, metadata={'page_label': '21', 'file_name': 'washnorm_report.pdf', 'file_path': '/Users/mac/project_in_cs/data/washnorm_report.pdf', 'file_type': 'application/pdf', 'file_size': 9122373, 'creation_date': '2024-11-17', 'last_modified_date': '2024-11-17'}, excluded_embed_metadata_keys=['file_name', 'file_type', 'file_size', 'creation_date', 'last_modified_date', 'last_accessed_date'], excluded_llm_metadata_keys=['file_name', 'file_type', 'file_size', 'creation_date', 'last_modified_date', 'last_accessed_date'], relationships={}, text=\" \\n    \\n \\n \\n \\n20 \\n \\nWater, Sanitation, Hygiene  \\nNational Outcome Routine Mapping 2021 Conclusions \\n \\nsurvey covered general information of the household, quality of water supply services, customer \\nsatisfaction ratings on the quality of services, redress mechanisms and a section on water quality testing. \\n \\nA pre-test and pilot test of the survey wer e conducted for the household and Institutional tools with \\nsamples of listed households and respondents prior to the main survey to assess the suitability and \\nappropriateness of the questionnaires and survey implementation modalities. These exercises provided \\na clear understanding of the flow, sequence, suitability, and coherence of the questions. Logic and skip \\npatterns of questions and administration mechanisms using the Computer Assisted Personal Interview \\n(CAPI) device were equally tested. During the field exercise, every observation and experienc e were \\ndocumented and submitted to the technical work ing group to enhance and finalize  the questionnaires \\nand data collection methodologies. \\n \\nIt is worthy to note that the data from the WASHNORM survey is aggregated at the state level, analysed \\nand used to provide national estimates. Therefore, the findings presents national and state level data, \\nbut does not provide local government and community level data. \\n \\nMain Survey Field Data Collection \\nThe 2021 WASHNORM  sampled households who reside in both rural and urban areas across the 36 \\nstates and FCT. Like with previous NORM surveys, data was collected by 533 field personnel through \\nface-to-face interviews with household respondents using computer-assisted personal interviewing (CAPI) \\ndevices. The survey collected data from households and facilities in 1,640 enumeration areas selected \\nfrom the 36 states and the FCT. Twelve (12) coordinators, six (6) Controllers, 37 state officers from NBS, \\nand ten (10) resource persons from FMWR, served as trainers for the main survey . They also provided \\na supervisory function for quality assurance of the state-level training exercise and took responsibility \\nfor ensuring that the data collection process was smoothly kick -started with adequate arrangements, \\nincluding intense field monitoring. \\n \\nThe Water Quality survey module was embedded in the stand ardized household questionnaire and \\nrecorded water quality data both at the household's point of collection and consumption or ingestion. To \\nevaluate SDG 6.1, household water safety was assessed based on levels of thermotolerant coliform \\nobserved in the ho usehold water at the point of collection and consumption . The water quality \\nassessments were carried out using Wagtech Palintest Water Quality mobile kits , which were used to \\ncheck for the presence or absence of thermotolerant coliforms. The kit also teste d the severity of \\ncontamination by thermotolerant coliform measured in coliform forming units per 100 ml (CFU/100ml). \\nThe team of enumerators conducting the household survey collected water samples from 6 households \\nper EA selected through systematic random sampling, with one household serving as a negative control \\ntest. \\n \", mimetype='text/plain', start_char_idx=None, end_char_idx=None, text_template='{metadata_str}\\n\\n{content}', metadata_template='{key}: {value}', metadata_seperator='\\n'),\n",
       " Document(id_='61f4c38b-4917-4df0-ac58-45515ed7e5cf', embedding=None, metadata={'page_label': '22', 'file_name': 'washnorm_report.pdf', 'file_path': '/Users/mac/project_in_cs/data/washnorm_report.pdf', 'file_type': 'application/pdf', 'file_size': 9122373, 'creation_date': '2024-11-17', 'last_modified_date': '2024-11-17'}, excluded_embed_metadata_keys=['file_name', 'file_type', 'file_size', 'creation_date', 'last_modified_date', 'last_accessed_date'], excluded_llm_metadata_keys=['file_name', 'file_type', 'file_size', 'creation_date', 'last_modified_date', 'last_accessed_date'], relationships={}, text=\" \\n    \\n \\n \\n \\n21 \\n \\nWater, Sanitation, Hygiene  \\nNational Outcome Routine Mapping 2021 Conclusions \\n \\nFor mapping of urban water utilities and their consumers, a total of 16 fully and 12 partially functional \\nstate urban water utilities or State Water Agencies (SWA) were studied to obtain technical information \\non their waterworks. In addition, 5,600 consumers within the SWA's networks were systemically targeted \\nfor the consumer satisfaction survey module. Water quality assessments were also conducted for utility \\nconsumers at the point of con sumption within their household premises. Altogether, 74 field personnel \\n(two per state) were trained to collect data from the urban water utilities and selected households served \\nby these 28 water utilities. \\n \\nData Quality, Processing and Analysis \\nThe overall response rate for the 2021 WASHNORM  household survey was 98  % from a total of \\n24,600 households sampled. Raw data from the survey tools w ere processed and then edited to \\nascertain accuracy and completeness. Data w ere then analyzed using Statis tical Package for Social \\nSciences (SPSS) and STATA. Key data quality control measures utilized include recruitment and intense \\ntraining of enumerators; the use of mobile data collection techniques with built -in filters and controls to \\nminimize data entry a nd skip pattern errors in the questionnaires; continuous data quality checks of \\nsubmitted data during collection by the NBS data specialists at the country level; and  continuous \\nmonitoring and supervision of all survey process, by coordinators, supervisors , technical specialists and \\nresource persons from NBS, UNICEF and FMWR, both at the field and remotely via dedicated online \\nchat rooms. \\n \\nWith regards to the water utilities mapping exercise, data quality control was carried out through the \\nresource persons and supervisors both on the ground and remotely. This was ensured through the thorough \\nexamination of all information provided by water utilities to ascertain the validity of the information \\nprovided. Enumerators submitted their data daily in line with th e quality assurance requirements . Any \\nerrors and mistakes identified were returned for  re-mapping. GIS-based tools were equally used for \\nquality assurance purposes. \\n \\nIII. Key Findings of the Survey \\nThe findings of the 2021 WASHNORM  provide an analysis of household 's access to basic WASH \\nservices, including quality of drinking water and access and satisfaction levels with water supply services; \\nassessment of water facilities in communities; WASH in schools, hospitals, markets and motor parks; and \\nhousehold expenditure on WASH services. The findings are disaggregated according to the area of \\nresidence, geopolitical zones, states, household wealth quintiles, and other socio-demographic groups to \\nhighlight inequities in access to WASH services across all regions and groups. \\n \\nFor this report, all numbers have been rounded to the nearest whole number (except for values between \\n0 % and 1 %). \\n \", mimetype='text/plain', start_char_idx=None, end_char_idx=None, text_template='{metadata_str}\\n\\n{content}', metadata_template='{key}: {value}', metadata_seperator='\\n'),\n",
       " Document(id_='8a9ee070-d3d3-412d-9946-57a3c0c5f308', embedding=None, metadata={'page_label': '23', 'file_name': 'washnorm_report.pdf', 'file_path': '/Users/mac/project_in_cs/data/washnorm_report.pdf', 'file_type': 'application/pdf', 'file_size': 9122373, 'creation_date': '2024-11-17', 'last_modified_date': '2024-11-17'}, excluded_embed_metadata_keys=['file_name', 'file_type', 'file_size', 'creation_date', 'last_modified_date', 'last_accessed_date'], excluded_llm_metadata_keys=['file_name', 'file_type', 'file_size', 'creation_date', 'last_modified_date', 'last_accessed_date'], relationships={}, text=\" \\n    \\n \\n \\n \\n22 \\n \\nWater, Sanitation, Hygiene  \\nNational Outcome Routine Mapping 2021 Conclusions \\n \\nDemography and Household Characteristics \\nThe average household size in 2021 was found to be five persons per household. 19 % of households \\nwere headed by women, a 2 % increase from 17 % reported in 2019. Nearly 8 % of the population \\nare children under five years of age, while 15 % are adults over 50 years. The findings show that 1 in \\n10 households have at least one person living with disabilities, while the proportion of the entire \\npopulation living with disabilities is 6 %, which amounts to about 11 million people in Nigeria living with \\ndisabilities. \\n \\nAt the time of the survey, slightly more than 65  % of households lived in rural areas, while 40  % of \\nhousehold members ranked among the poor to the poorest wealth quintiles. This indicates a moderate \\ndecrease in the number of people i n core rural  by 2 % and a 1 % decrease in household members \\nranked among the poor to the poorest wealth quintiles against the reported value in NORM  2019. \\nFurthermore, from the findings, almost half of the country's population belongs to the poor and poorest \\nwealth quintiles, with 55 % of the rural household members and 9 % of urban household members falling \\nwithin these categories. The health status of households showed that residents in about 1 in 10 households \\n(11 %) reported suffering from diarrh oea in the past two weeks preceding the survey.  Seventy-four \\n(74) % of the household members who suffered diarrhoea cases are children under five. \\n \\nAccess to Water Supply Services \\nUp to 87 % (179 million) of Nigerians do not have access to safely managed drinking water services. \\nAccess to s afely managed drinking water supply services remains inadequate in the North , with the  \\nNortheast having the lowest access at 2 %, while the Southwest has the highest at 29 %. Access for the \\nrural population is at 6 %, four times lower than access levels for the urban population at 27 %. There \\nare also notable differences  in access  between the richest and poorest households. The poorest \\nhouseholds with only 2 % access are 17 times less likely to have access to safely managed water services \\nthan the richest households with 37 % access. \\n \\nAccess to basic water supply services is available to 67 % of the population. At 92 % access levels, the \\nrichest households are twice as likely to use basic water supply services than the poorest households, with \\n46 %. Disparities also exist between urban areas (86  %) and rural areas (57  %). The most common \\nsources of drinking water recorded by households were boreholes/tubewells used by 37  % of the \\nhousehold members. Only 11 % of the population use pipe-borne water, and just 4 % use water from \\na source that is piped into their premises. Similar to figures reported for NORM 2019, about a quarter \\nof the population (25  %) still depend on unimproved and surface water supply  for their daily water \\nneeds. \\n \\nAbout two-thirds of the population (68 %) use drinking water supplies contaminated by thermotolerant \\ncoliform at the point of collection. A similar proportion (70 %) ingest contaminated water at the point of \", mimetype='text/plain', start_char_idx=None, end_char_idx=None, text_template='{metadata_str}\\n\\n{content}', metadata_template='{key}: {value}', metadata_seperator='\\n'),\n",
       " Document(id_='f0269a4b-ff20-4819-bfdd-6bc4a379cfaf', embedding=None, metadata={'page_label': '24', 'file_name': 'washnorm_report.pdf', 'file_path': '/Users/mac/project_in_cs/data/washnorm_report.pdf', 'file_type': 'application/pdf', 'file_size': 9122373, 'creation_date': '2024-11-17', 'last_modified_date': '2024-11-17'}, excluded_embed_metadata_keys=['file_name', 'file_type', 'file_size', 'creation_date', 'last_modified_date', 'last_accessed_date'], excluded_llm_metadata_keys=['file_name', 'file_type', 'file_size', 'creation_date', 'last_modified_date', 'last_accessed_date'], relationships={}, text=\" \\n    \\n \\n \\n \\n23 \\n \\nWater, Sanitation, Hygiene  \\nNational Outcome Routine Mapping 2021 Conclusions \\n \\nconsumption within the household. The survey found that just 20 % of households pay any form of tariff \\nto get water from their communal water sources. Thirty-two (32) % of the population have access to \\nimproved water supply within the premises. The average time to fetch water is 17 mins for households \\nwhose water points are not located within the premises. Eighty-four (84) % of the households expressed \\ndissatisfaction with the level of water supply services primarily because of location and time spent \\nfetching water. \\n \\nAccess to Sanitation Services \\nAccess to sanitation indicators across the country shows a slight improvement, though open defecation is \\nstill prevalent. Evidently, 23 %  of the population (48 million people) still defecate in the open. People \\nin rural areas (31 %) are four times more likely to practice open defecation than those  living in urban \\nareas (8 %). The poorest households (48 %) are 48 times more likely to practice open defecation than \\nthe richest hou seholds (1 %). Forty-six (46) % of the population were found to have access to basic \\nsanitation services in 2021 compared to 44 % in 2019, representing a 2 % (6.9 million people) increase \\nin the number of persons accessing basic sanitation services. Of the number of people using at least a \\nbasic sanitation facility, 18  % use safely managed sanitations services, a three -%age point decrease \\nfrom 2019 findings. Despite the increase in the number of people with access to basic sanitation services, \\nthe proportion of people practising open defecation has barely changed since 2019, with the number \\nincreasing from 46 million in 2019 to 48 million in 2021. \\nOnly 13 % of the population use improved sanitation facilities with a proper handwashing station that \\nhas running water and soap. Fifty-one (51) % of persons living with disabilities find their household 's \\nimproved latrines useable and accessible, while in 33 % of households with latrines, the latrine platforms \\nwere reported as unsafe for children to use. \\n \\nAccess to Hygiene Services \\nThe survey showed a small increase in access to hygiene services between 2019 and 2021 as 17 % of \\nthe population used basic hygiene services in 2021 compared to 16 % in 2019, with notable disparities \\nbetween urban (25 %) and rural (13 %) areas. Ninety-nine (99) % of households were reported to have \\nknowledge of at least two critical times for handwashing, an 18 % increase from NORM 2019 reported \\nfigures of 81  %. However, this indicative high awareness  pales compared to the just 1 7 % of the \\npopulation with access to basic hygiene services or the 1 in 10 (11 %) of household heads who were \\nable to demonstrate proper handwashing techniques with soap under running water. \\n \\nFindings of the Urban Public Water Utilities Mapping Exercise and Customer Experience \\nSurvey \\nAll the thirty-six states in Nigeria and FCT continued to maintain specific organizations charged with the \\nresponsibility of providing urban water service. However, only 28 out of the 36 states have urban water \\nutilities or State Water Agencies (SWA). At the point of survey, only 16 states had fully functioning \", mimetype='text/plain', start_char_idx=None, end_char_idx=None, text_template='{metadata_str}\\n\\n{content}', metadata_template='{key}: {value}', metadata_seperator='\\n'),\n",
       " Document(id_='49c5b3ba-7d4f-4962-af4e-f7c34fff98e5', embedding=None, metadata={'page_label': '25', 'file_name': 'washnorm_report.pdf', 'file_path': '/Users/mac/project_in_cs/data/washnorm_report.pdf', 'file_type': 'application/pdf', 'file_size': 9122373, 'creation_date': '2024-11-17', 'last_modified_date': '2024-11-17'}, excluded_embed_metadata_keys=['file_name', 'file_type', 'file_size', 'creation_date', 'last_modified_date', 'last_accessed_date'], excluded_llm_metadata_keys=['file_name', 'file_type', 'file_size', 'creation_date', 'last_modified_date', 'last_accessed_date'], relationships={}, text=\" \\n    \\n \\n \\n \\n24 \\n \\nWater, Sanitation, Hygiene  \\nNational Outcome Routine Mapping 2021 Conclusions \\n \\nurban utilities or SWA, while 12 were partially functional. All urban utilities currently have an estimated \\ncombined staff strength of 19,019, consisting of 14,204 (75%) permanent staff, 459 (2%) contract staff \\nand 4,356 (23%) casual staff. There are an estimated 1,395 waterworks across 36 states of Nigeria, \\nincluding the FCT . In addition, there are other 17 waterworks facilitated by the Federal Ministry of \\nWater Resources which are not captured in the state returns, thereby bringing the total waterworks in \\nthe country to 1,412. \\n \\nThe combined installed capacity of all waterworks assessed is estimated at 8 million cubic metres of \\nwater per day, while their combined operating capacity was discovered to be a mere  2 million cubic \\nmetres of water  per day. About 21 % of waterworks were functional , and 79 % were either non -\\nfunctional or partially functional during  the survey period. Across geopolitical zones, functionality was \\nhighest in the Northeast and Southwest at 30% and lowest in the Southeast at 5.1%. \\n \\nMore than two-thirds (64%) of urban water utilities' consumers do not depend solely on their public tap \\nwater for drinking due to the poor water availability  reported by 41 % of households. This situation \\naligns with the fact that in 1 out of 10 households, water is never available from their connection or tap. \\nOnly 16% of households report that they always receive sufficient quantities of water each day from \\ntheir public water utilities connections or taps, and 48% are satisfied with the quantity of water supplied. \\nFurthermore, o nly 8 % of con sumers of urban water utilitie s have metered services , w hile 87 % of \\nconsumers with compound or household connections or taps pay a form of fee or tariff to use their water \\nsystem, only slightly more than half (52 %) assessed are always able to raise funds f or and pay their \\nmonthly water bills. About 41 % of all taps fed by urban water utilities ' supply is contaminated with \\nthermotolerant coliform with an average coliform forming units per 100ml at 234 CFU/100ml. \\n \\nStatus of Water Supply Facilities in Communities \\nThere are an estimated 2.3 million water points in Nigeria, with about 60 % located in rural areas and \\n40% in urban areas. Thirty-one (31)% of these facilities are motorized boreholes, and about 1 in 10 \\n(11%) of the motorized boreholes are solar -powered. Handpump boreholes, including force-lift hand \\npump boreholes, make up only 13 % of water points in Nigeria.  Sixty-two (62%) of all water supply \\nfacilities were functional at the time of the survey. Furthermore, 68.5% of privately owned were reported \\nas functional, while the functionality of publicly owned water points is estimated at 52.8%. The number \\nof privately owned water points remained higher than those that are publicly owned at 1.3 million to 1 \\nmillion.   \\n \\nAbout half (57%) of all water facilities are publicly used. Of these publicly used facilities, a third (30%) \\nhave some form of facility management committee in place, about half (51%) have water point facility \\ncaretakers in place, while only 7 % have water tariff systems in place. \\n \", mimetype='text/plain', start_char_idx=None, end_char_idx=None, text_template='{metadata_str}\\n\\n{content}', metadata_template='{key}: {value}', metadata_seperator='\\n'),\n",
       " Document(id_='e07b7e8f-1965-45ca-aa59-f0f9be466161', embedding=None, metadata={'page_label': '26', 'file_name': 'washnorm_report.pdf', 'file_path': '/Users/mac/project_in_cs/data/washnorm_report.pdf', 'file_type': 'application/pdf', 'file_size': 9122373, 'creation_date': '2024-11-17', 'last_modified_date': '2024-11-17'}, excluded_embed_metadata_keys=['file_name', 'file_type', 'file_size', 'creation_date', 'last_modified_date', 'last_accessed_date'], excluded_llm_metadata_keys=['file_name', 'file_type', 'file_size', 'creation_date', 'last_modified_date', 'last_accessed_date'], relationships={}, text=\" \\n    \\n \\n \\n \\n25 \\n \\nWater, Sanitation, Hygiene  \\nNational Outcome Routine Mapping 2021 Conclusions \\n \\nThe average per capita share for water supply in Nigeria is 10 litres per person per day. Disparities in \\nper capita share exist across areas of residence as water facilities located in rural areas provide up to \\n12 litres per person per day, more than twice the volume provided by water facilities in urban areas, \\nwhich provides only 5 litres per person per day. Northcentral and Northwest have 11 % each, while the \\nSouthsouth, Southeast and the Northeast are estimated at 10 % each. The Southwest has the least at 8 \\n%. \\n \\nAccess to WASH in Schools \\nAbout a third of all schools (37 %) have basic water supply services, while 30 % of schools have access \\nto basic sanitation services. Only 8 % of schools have girls ' toilet compartments with provisions for \\nmenstrual hygiene management. Handwashing facilities are not available in 49 % of schools, while about \\nthree in ten schools (35 %) have access to basic hygiene services. \\n \\nComposite analysis of access to WASH services in schools shows that only 17 % of schools have access \\nto a combination of basic water and sanitation services. Specifically, only 19  % of schools have basic \\nwater and hygiene services, while 3 % of schools were found to have basic gender -sensitive WASH \\nservices. Additionally, only 42 % of schools get support from the school -based management \\ncommittees/PTA/host community to maintain available WASH facilities, and nearly 15 % of schools have \\nbudgeted funds for maintenance of WASH facilities. This i ndicates poor investments in WASH services \\nfor schools by the education sector and host communities. Consequently, sustainability issues and progress \\ntowards attaining the SDGs water goal and targets remains a recurring challenge \\n \\nAccess to WASH in Health Facilities \\nWhile more than half (59 %) of health facilities have basic water supply serv ices, only about 1 in 10 \\nhealth facilities (12 %) have basic sanitation services  which are separated for females and allow for \\nmenstrual hygiene management. About one in four health facilities (23 %) have improved toilets that are \\naccessible to those with limited mobility. \\n \\nBasic hand hygiene services are available in only 30 % of health facilities. About 1 in 3 health facilities \\n(45 %) have hand hygiene stations with soap and water at points of care, while one-third (36 %) have \\nhandwashing stations with soap and running water at toilets. One-third of health facilities (37 %) safely \\nseparate their garbage and waste into at least three labelled bins in consultation areas and safely \\ndispose of garbage/waste. Composite analysis of WASH services in health facilities showed that 23 % \\nof health facilities had combined access to basic water and hygiene services, 7 % have access to basic \\nsanitation and hygiene services, while just 6 % have access to all three WASH services. \\n \", mimetype='text/plain', start_char_idx=None, end_char_idx=None, text_template='{metadata_str}\\n\\n{content}', metadata_template='{key}: {value}', metadata_seperator='\\n'),\n",
       " Document(id_='2258f06a-d5fb-4649-8e7b-3527a61c33fc', embedding=None, metadata={'page_label': '27', 'file_name': 'washnorm_report.pdf', 'file_path': '/Users/mac/project_in_cs/data/washnorm_report.pdf', 'file_type': 'application/pdf', 'file_size': 9122373, 'creation_date': '2024-11-17', 'last_modified_date': '2024-11-17'}, excluded_embed_metadata_keys=['file_name', 'file_type', 'file_size', 'creation_date', 'last_modified_date', 'last_accessed_date'], excluded_llm_metadata_keys=['file_name', 'file_type', 'file_size', 'creation_date', 'last_modified_date', 'last_accessed_date'], relationships={}, text=' \\n    \\n \\n \\n \\n26 \\n \\nWater, Sanitation, Hygiene  \\nNational Outcome Routine Mapping 2021 Conclusions \\n \\nManagement and sustainability of WASH services in health facilities is also a concern as  only 31 % of \\nhealth facilities with WASH facilities keep a dedicated budget for cleaning and maintaining the WASH \\nfacilities.  \\n \\nHospital records showed that the average number of diarrhoea cases per month in the past 12 months \\nis 35 %, while the rate of cases amongst under-five children within the same period is 33 %. \\n \\nAccess to WASH in Markets and Motor Parks \\nAbout 33 % of markets and motor parks have access to basic water supply services. Only 20 % of the \\nmarkets and motor parks have improved water supply facilities within the premises that are accessible \\nto people living with disabilities . 1 out of 5 markets and motor parks (20  %) have access to basic \\nsanitation services. \\n \\nOnly 8 % of markets and motor parks have access to basic hygiene services. Composite analysis of \\nWASH services in markets and motor parks showed that 13 % of markets and motor parks had combined \\naccess to water and sanitation services, while just 4 % have access to all three WASH services. Only 35 \\n% of markets and motor parks have dedicated committees to serve as custodians and caretakers of \\nWASH facilities who coordinate the operation and maintenance of the WASH facilities. \\n \\nHousehold Expenditure on WASH Services1 \\nResults of the household expenditure for WASH assessment indicate that in 2021, total household \\nexpenditure for WASH was ₦3.4 trillion, which translates to $8.5 billion. Of this amount, an estimated \\n₦546 billion ($1.3 billion) was spent on capital projects or purchases by households in 2021. Expenditure \\nby wealth quintile shows that in 2021, households in the richest wealth quintile spent $12.97 billion on \\nWASH, which is more than the WASH expense of those in the lowest wealth quintile at $829 billion. \\n \\nAbout ₦1.03 trillion or $2.6 billion was spent on water supply services in 2021. A deeper analysis of \\nthe water supply expenses revealed that 14 % was spent on water treatment, 50  % on storage and \\ntransport and 31  % on bills and levies. Households spent a total of ₦66 billion or $166 million on \\nsanitation services in 2021, whereby 9 % was spent on bills and lev ies, 35 % on toilet emptying, and \\n33 % on construction.  The sum of ₦2.3 trillion or $5.9 billion was spent by households on hygiene \\nservices in 2021. Most of the hygiene expenses were spent on purchasing or replenishing bathing and \\nlaundry soaps (30 %) and washing materials and equipment (25 %). \\n \\n \\n \\n1 Conversion is calculated at NGN401 to US$1 ', mimetype='text/plain', start_char_idx=None, end_char_idx=None, text_template='{metadata_str}\\n\\n{content}', metadata_template='{key}: {value}', metadata_seperator='\\n'),\n",
       " Document(id_='45d0796a-5162-4631-911b-00d0586c64a8', embedding=None, metadata={'page_label': '28', 'file_name': 'washnorm_report.pdf', 'file_path': '/Users/mac/project_in_cs/data/washnorm_report.pdf', 'file_type': 'application/pdf', 'file_size': 9122373, 'creation_date': '2024-11-17', 'last_modified_date': '2024-11-17'}, excluded_embed_metadata_keys=['file_name', 'file_type', 'file_size', 'creation_date', 'last_modified_date', 'last_accessed_date'], excluded_llm_metadata_keys=['file_name', 'file_type', 'file_size', 'creation_date', 'last_modified_date', 'last_accessed_date'], relationships={}, text=' \\n    \\n \\n \\n \\n27 \\n \\nWater, Sanitation, Hygiene  \\nNational Outcome Routine Mapping 2021 Conclusions \\n \\nConclusions \\nAlthough the findings from 2021 WASHNORM  indicate mixed results, the overall situation of WASH \\nservices in the country remains far from achieving the SDG targets. The results present a sobering reality \\nthat Nigeria might miss the SDG 6.1 and 6.2 targets by 2030. \\n \\nSustainable and readily available climate -resilient, safely managed WASH services remain a critical \\nneed across the country . The government of Nigeria , through all relevant Ministries, Departments and \\nAgencies (MDAs), will need to adopt innovative and cost -effective approaches to provide safely \\nmanaged WASH services in the country. Government should facilitate and ensure that systems and \\nmechanisms to en sure efficient WASH service delivery are in place to guarantee adequacy, constant \\navailability, and quality of services. \\n \\nOne area that will facilitate the provision of safely managed water and sanitation service at scale is a \\nfunctional urban water and sanitation system through the State Water Agencies (SWAs). As data from \\nthe survey have shown, most of the SWAs are either not functioning or function far below their installed \\ncapacity. Therefore, the d ata presented on the status and quality of these utilit ies should feed into \\ninterventions aimed at enhancing the institutional and operational efficiencies of these public agencies \\nto support the sustainable provision of water and sanitation services. \\n \\nThe dangers of using contaminated water supplies provide sufficient justification for increased focus on \\nwater quality. A conscious effort must be made to combine expansion of access to improved water \\nsources with appropriate practices to ensure that water safety measures that minimize drinking water \\ncontamination from source to the point of use are in place. Water utilities must also be supported with \\nfully equipped and well-funded water quality monitoring and management systems to ensure the quality \\nof water supplied through tap connections is of optimum quality. \\n \\nThere is a need for the expansion in the scope of sanitation service delivery across all levels in the country \\nas well as its coordination and management. To accelerate progress, community influencers, the private \\nsector, and institutions should support government and community efforts to eliminate  open defecation \\nthrough a behaviour change and communication  intervention programme and supply of improved \\nsanitation facilities . Such interventions  should take into cognizance  climate resilience,  environmental, \\npsychological and social factors. Additionally, performance monitoring and knowledge management \\nstrategies should be evolved to sustain all efforts put in by all stakeholders across the three tiers of \\ngovernment. This will contribute to outlined goals and targets and improve the quality and standard of \\nliving of the general populace. \\n \\nThe advent of Covid-19 contributed to slight improvement in handwashing and usage of hand sanitisers. \\nHowever, as the pandemic enters its third year, fatigue has set in, further exacerbated by limited access ', mimetype='text/plain', start_char_idx=None, end_char_idx=None, text_template='{metadata_str}\\n\\n{content}', metadata_template='{key}: {value}', metadata_seperator='\\n')]"
      ]
     },
     "execution_count": 108,
     "metadata": {},
     "output_type": "execute_result"
    }
   ],
   "source": [
    "small_dataset"
   ]
  },
  {
   "cell_type": "code",
   "execution_count": 15,
   "metadata": {},
   "outputs": [],
   "source": [
    "index = VectorStoreIndex.from_documents(small_dataset)"
   ]
  },
  {
   "cell_type": "markdown",
   "metadata": {},
   "source": [
    "To have a back and forth, we use the first line of code which is commented out and the RAG is built as a query engine because we ask it all the questions in the test data set one by one."
   ]
  },
  {
   "cell_type": "code",
   "execution_count": 31,
   "metadata": {},
   "outputs": [],
   "source": [
    "# chat_engine = index.as_chat_engine(llm=llm, verbose=True,chat_mode='context')\n",
    "chat_engine = index.as_query_engine(llm=llm, verbose=True)"
   ]
  },
  {
   "cell_type": "markdown",
   "metadata": {},
   "source": [
    "First test"
   ]
  },
  {
   "cell_type": "code",
   "execution_count": 60,
   "metadata": {},
   "outputs": [],
   "source": [
    "# chat_engine.chat_repl()\n",
    "response = chat_engine.chat(\"What does WASHNORM mean?\")"
   ]
  },
  {
   "cell_type": "code",
   "execution_count": 64,
   "metadata": {},
   "outputs": [],
   "source": [
    "from torcheval.metrics.functional import bleu_score\n",
    "given_answer = response.response\n",
    "given_answer.strip()\n",
    "llm_answer = [given_answer]\n",
    "correct_answer = [\"WASHNORM means Water Sanitation and Hygiene National Outcome Routine Mapping\"]"
   ]
  },
  {
   "cell_type": "code",
   "execution_count": 104,
   "metadata": {},
   "outputs": [],
   "source": [
    "given_answer = [\"WASHNORM stands for Water, Sanitation, Hygiene, National Outcome Routine Mapping\"]"
   ]
  },
  {
   "cell_type": "code",
   "execution_count": 105,
   "metadata": {},
   "outputs": [
    {
     "data": {
      "text/plain": [
       "tensor(0.2778)"
      ]
     },
     "execution_count": 105,
     "metadata": {},
     "output_type": "execute_result"
    }
   ],
   "source": [
    "bleu_score(given_answer,correct_answer)"
   ]
  },
  {
   "cell_type": "code",
   "execution_count": 89,
   "metadata": {},
   "outputs": [
    {
     "data": {
      "text/plain": [
       "tensor(0.4548)"
      ]
     },
     "execution_count": 89,
     "metadata": {},
     "output_type": "execute_result"
    }
   ],
   "source": [
    "# using an example from bleu score documentation to have a basis of comparison\n",
    "bleu_score([\"a squirrel is eating a nut\"],[\"the squirrel is eating a tasty nut\"])"
   ]
  },
  {
   "cell_type": "markdown",
   "metadata": {},
   "source": [
    "Load in test data (the question and answer pairs that were generated in the 'qa_extraction' notebook), and the RAG responses are also added to the dictionary."
   ]
  },
  {
   "cell_type": "code",
   "execution_count": 1,
   "metadata": {},
   "outputs": [],
   "source": [
    "import pickle\n",
    "with open('test_data.pkl','rb') as f:\n",
    "    test_data = pickle.load(f)"
   ]
  },
  {
   "cell_type": "code",
   "execution_count": 33,
   "metadata": {},
   "outputs": [
    {
     "name": "stdout",
     "output_type": "stream",
     "text": [
      "1\n",
      "2\n",
      "3\n",
      "4\n",
      "5\n",
      "6\n",
      "7\n",
      "8\n",
      "9\n",
      "10\n",
      "11\n",
      "12\n",
      "13\n",
      "14\n",
      "15\n",
      "16\n",
      "17\n",
      "18\n",
      "19\n",
      "20\n",
      "21\n",
      "22\n",
      "23\n",
      "24\n",
      "25\n",
      "26\n",
      "27\n",
      "28\n",
      "29\n",
      "30\n",
      "31\n",
      "32\n",
      "33\n",
      "34\n",
      "35\n",
      "36\n",
      "37\n",
      "38\n",
      "39\n",
      "40\n",
      "41\n",
      "42\n",
      "43\n",
      "44\n",
      "45\n",
      "46\n",
      "47\n",
      "48\n",
      "49\n",
      "50\n",
      "51\n",
      "52\n",
      "53\n",
      "54\n",
      "55\n",
      "56\n",
      "57\n",
      "58\n",
      "59\n",
      "60\n",
      "61\n",
      "62\n",
      "63\n",
      "64\n",
      "65\n",
      "66\n",
      "67\n",
      "68\n",
      "69\n",
      "70\n",
      "71\n",
      "72\n",
      "73\n",
      "74\n",
      "75\n",
      "76\n",
      "77\n",
      "78\n",
      "79\n",
      "80\n",
      "81\n",
      "82\n",
      "83\n",
      "84\n",
      "85\n",
      "86\n",
      "87\n",
      "88\n",
      "89\n",
      "90\n"
     ]
    }
   ],
   "source": [
    "# Generate LLM responses and add them to the dictionary\n",
    "for idx, data in test_data.items():\n",
    "    question = data[\"question\"]\n",
    "    response = chat_engine.query(question)\n",
    "    text = response.response\n",
    "    test_data[idx][\"llm_response\"] = text\n",
    "    print(idx)"
   ]
  },
  {
   "cell_type": "code",
   "execution_count": 34,
   "metadata": {},
   "outputs": [],
   "source": [
    "# Filter the dictionary to get values with difficulty 1\n",
    "easy = {key: value for key, value in test_data.items() if value['difficulty'] == 1}\n",
    "medium = {key: value for key, value in test_data.items() if value['difficulty'] == 2}\n",
    "hard = {key: value for key, value in test_data.items() if value['difficulty'] == 3}"
   ]
  },
  {
   "cell_type": "code",
   "execution_count": 43,
   "metadata": {},
   "outputs": [],
   "source": [
    "from torcheval.metrics.functional import bleu_score"
   ]
  },
  {
   "cell_type": "markdown",
   "metadata": {},
   "source": [
    "Evaulate the overall BLEU score of the generated text for the easy, medium, and hard difficulty level questions."
   ]
  },
  {
   "cell_type": "code",
   "execution_count": 50,
   "metadata": {},
   "outputs": [],
   "source": [
    "easy_answers = [value['answers'] for value in easy.values()]\n",
    "easy_llm_response = [value['llm_response'] for value in easy.values()]"
   ]
  },
  {
   "cell_type": "code",
   "execution_count": 53,
   "metadata": {},
   "outputs": [
    {
     "data": {
      "text/plain": [
       "tensor(0.4111)"
      ]
     },
     "execution_count": 53,
     "metadata": {},
     "output_type": "execute_result"
    }
   ],
   "source": [
    "easy_bleu_score = bleu_score(easy_llm_response,easy_answers)\n",
    "easy_bleu_score"
   ]
  },
  {
   "cell_type": "code",
   "execution_count": 54,
   "metadata": {},
   "outputs": [
    {
     "data": {
      "text/plain": [
       "tensor(0.2275)"
      ]
     },
     "execution_count": 54,
     "metadata": {},
     "output_type": "execute_result"
    }
   ],
   "source": [
    "medium_answers = [value['answers'] for value in medium.values()]\n",
    "medium_llm_response = [value['llm_response'] for value in medium.values()]\n",
    "\n",
    "medium_bleu_score = bleu_score(medium_llm_response,medium_answers)\n",
    "medium_bleu_score"
   ]
  },
  {
   "cell_type": "code",
   "execution_count": 55,
   "metadata": {},
   "outputs": [
    {
     "data": {
      "text/plain": [
       "tensor(0.1408)"
      ]
     },
     "execution_count": 55,
     "metadata": {},
     "output_type": "execute_result"
    }
   ],
   "source": [
    "hard_answers = [value['answers'] for value in hard.values()]\n",
    "hard_llm_response = [value['llm_response'] for value in hard.values()]\n",
    "\n",
    "hard_bleu_score = bleu_score(hard_llm_response, hard_answers)\n",
    "hard_bleu_score"
   ]
  }
 ],
 "metadata": {
  "kernelspec": {
   "display_name": "theone",
   "language": "python",
   "name": "python3"
  },
  "language_info": {
   "codemirror_mode": {
    "name": "ipython",
    "version": 3
   },
   "file_extension": ".py",
   "mimetype": "text/x-python",
   "name": "python",
   "nbconvert_exporter": "python",
   "pygments_lexer": "ipython3",
   "version": "3.11.9"
  }
 },
 "nbformat": 4,
 "nbformat_minor": 2
}
